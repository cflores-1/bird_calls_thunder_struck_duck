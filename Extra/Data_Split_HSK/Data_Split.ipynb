{
 "cells": [
  {
   "cell_type": "code",
   "execution_count": 1,
   "metadata": {},
   "outputs": [],
   "source": [
    "import pandas as pd"
   ]
  },
  {
   "cell_type": "code",
   "execution_count": 2,
   "metadata": {},
   "outputs": [],
   "source": [
    "data = pd.read_csv(\"xeno-canto_ca-nv_index.csv\")"
   ]
  },
  {
   "cell_type": "code",
   "execution_count": 3,
   "metadata": {},
   "outputs": [
    {
     "data": {
      "text/html": [
       "<div>\n",
       "<style scoped>\n",
       "    .dataframe tbody tr th:only-of-type {\n",
       "        vertical-align: middle;\n",
       "    }\n",
       "\n",
       "    .dataframe tbody tr th {\n",
       "        vertical-align: top;\n",
       "    }\n",
       "\n",
       "    .dataframe thead th {\n",
       "        text-align: right;\n",
       "    }\n",
       "</style>\n",
       "<table border=\"1\" class=\"dataframe\">\n",
       "  <thead>\n",
       "    <tr style=\"text-align: right;\">\n",
       "      <th></th>\n",
       "      <th>Unnamed: 0</th>\n",
       "      <th>country</th>\n",
       "      <th>duration_seconds</th>\n",
       "      <th>english_cname</th>\n",
       "      <th>file_id</th>\n",
       "      <th>file_name</th>\n",
       "      <th>file_url</th>\n",
       "      <th>genus</th>\n",
       "      <th>latitude</th>\n",
       "      <th>license</th>\n",
       "      <th>location</th>\n",
       "      <th>longitude</th>\n",
       "      <th>recordist</th>\n",
       "      <th>recordist_url</th>\n",
       "      <th>sonogram_url</th>\n",
       "      <th>species</th>\n",
       "      <th>type</th>\n",
       "      <th>remarks</th>\n",
       "      <th>full_name</th>\n",
       "    </tr>\n",
       "  </thead>\n",
       "  <tbody>\n",
       "    <tr>\n",
       "      <th>0</th>\n",
       "      <td>0</td>\n",
       "      <td>United States</td>\n",
       "      <td>3</td>\n",
       "      <td>Abert's Towhee</td>\n",
       "      <td>17804</td>\n",
       "      <td>XC17804.mp3</td>\n",
       "      <td>https://www.xeno-canto.org/17804/download</td>\n",
       "      <td>Melozone</td>\n",
       "      <td>33.3117</td>\n",
       "      <td>http://creativecommons.org/licenses/by-nc-nd/2.5/</td>\n",
       "      <td>Cibola National Wildlife Refuge, Cibola, Arizo...</td>\n",
       "      <td>-114.68912</td>\n",
       "      <td>Nathan Pieplow</td>\n",
       "      <td>https://www.xeno-canto.org/contributor/EKKJJJRDJY</td>\n",
       "      <td>https://www.xeno-canto.org/sounds/uploaded/EKK...</td>\n",
       "      <td>aberti</td>\n",
       "      <td>'seet' call</td>\n",
       "      <td>XC17804 © Nathan Pieplow // Cibola National Wi...</td>\n",
       "      <td>Abert's Towhee (Melozone aberti)</td>\n",
       "    </tr>\n",
       "    <tr>\n",
       "      <th>1</th>\n",
       "      <td>1</td>\n",
       "      <td>United States</td>\n",
       "      <td>4</td>\n",
       "      <td>Abert's Towhee</td>\n",
       "      <td>177367</td>\n",
       "      <td>XC177367.mp3</td>\n",
       "      <td>https://www.xeno-canto.org/177367/download</td>\n",
       "      <td>Melozone</td>\n",
       "      <td>34.2850</td>\n",
       "      <td>http://creativecommons.org/licenses/by-nc-sa/4.0/</td>\n",
       "      <td>Bill Williams River NWR, Arizona, United States</td>\n",
       "      <td>-114.06900</td>\n",
       "      <td>Lauren Harter</td>\n",
       "      <td>https://www.xeno-canto.org/contributor/YQNGFTBRRT</td>\n",
       "      <td>https://www.xeno-canto.org/sounds/uploaded/YQN...</td>\n",
       "      <td>aberti</td>\n",
       "      <td>call</td>\n",
       "      <td>XC177367 © Lauren Harter // Bill Williams Rive...</td>\n",
       "      <td>Abert's Towhee (Melozone aberti dumeticola)</td>\n",
       "    </tr>\n",
       "    <tr>\n",
       "      <th>2</th>\n",
       "      <td>2</td>\n",
       "      <td>United States</td>\n",
       "      <td>4</td>\n",
       "      <td>Abert's Towhee</td>\n",
       "      <td>145505</td>\n",
       "      <td>XC145505.mp3</td>\n",
       "      <td>https://www.xeno-canto.org/145505/download</td>\n",
       "      <td>Melozone</td>\n",
       "      <td>34.2850</td>\n",
       "      <td>http://creativecommons.org/licenses/by-nc-sa/3.0/</td>\n",
       "      <td>Bill Williams River NWR, Arizona, United States</td>\n",
       "      <td>-114.06900</td>\n",
       "      <td>Lauren Harter</td>\n",
       "      <td>https://www.xeno-canto.org/contributor/YQNGFTBRRT</td>\n",
       "      <td>https://www.xeno-canto.org/sounds/uploaded/YQN...</td>\n",
       "      <td>aberti</td>\n",
       "      <td>Squeal duet</td>\n",
       "      <td>XC145505 © Lauren Harter // Bill Williams Rive...</td>\n",
       "      <td>Abert's Towhee (Melozone aberti dumeticola)</td>\n",
       "    </tr>\n",
       "    <tr>\n",
       "      <th>3</th>\n",
       "      <td>3</td>\n",
       "      <td>United States</td>\n",
       "      <td>5</td>\n",
       "      <td>Abert's Towhee</td>\n",
       "      <td>228159</td>\n",
       "      <td>XC228159.mp3</td>\n",
       "      <td>https://www.xeno-canto.org/228159/download</td>\n",
       "      <td>Melozone</td>\n",
       "      <td>33.1188</td>\n",
       "      <td>http://creativecommons.org/licenses/by-nc-nd/4.0/</td>\n",
       "      <td>Salton Sea, CA, United States</td>\n",
       "      <td>-115.79450</td>\n",
       "      <td>Peter Boesman</td>\n",
       "      <td>https://www.xeno-canto.org/contributor/OOECIWCSWV</td>\n",
       "      <td>https://www.xeno-canto.org/sounds/uploaded/OOE...</td>\n",
       "      <td>aberti</td>\n",
       "      <td>interaction duet</td>\n",
       "      <td>XC228159 © Peter Boesman // Salton Sea, CA, Un...</td>\n",
       "      <td>Abert's Towhee (Melozone aberti)</td>\n",
       "    </tr>\n",
       "    <tr>\n",
       "      <th>4</th>\n",
       "      <td>4</td>\n",
       "      <td>United States</td>\n",
       "      <td>5</td>\n",
       "      <td>Abert's Towhee</td>\n",
       "      <td>51313</td>\n",
       "      <td>XC51313.mp3</td>\n",
       "      <td>https://www.xeno-canto.org/51313/download</td>\n",
       "      <td>Melozone</td>\n",
       "      <td>36.0628</td>\n",
       "      <td>http://creativecommons.org/licenses/by-nc-sa/3.0/</td>\n",
       "      <td>Sunset Park, Las Vegas, Nevada, United States</td>\n",
       "      <td>-115.11280</td>\n",
       "      <td>Mike Nelson</td>\n",
       "      <td>https://www.xeno-canto.org/contributor/PWDLINYMKL</td>\n",
       "      <td>https://www.xeno-canto.org/sounds/uploaded/PWD...</td>\n",
       "      <td>aberti</td>\n",
       "      <td>call</td>\n",
       "      <td>XC51313 © Mike Nelson // Sunset Park, Las Vega...</td>\n",
       "      <td>Abert's Towhee (Melozone aberti dumeticola)</td>\n",
       "    </tr>\n",
       "  </tbody>\n",
       "</table>\n",
       "</div>"
      ],
      "text/plain": [
       "   Unnamed: 0        country  duration_seconds   english_cname  file_id  \\\n",
       "0           0  United States                 3  Abert's Towhee    17804   \n",
       "1           1  United States                 4  Abert's Towhee   177367   \n",
       "2           2  United States                 4  Abert's Towhee   145505   \n",
       "3           3  United States                 5  Abert's Towhee   228159   \n",
       "4           4  United States                 5  Abert's Towhee    51313   \n",
       "\n",
       "      file_name                                    file_url     genus  \\\n",
       "0   XC17804.mp3   https://www.xeno-canto.org/17804/download  Melozone   \n",
       "1  XC177367.mp3  https://www.xeno-canto.org/177367/download  Melozone   \n",
       "2  XC145505.mp3  https://www.xeno-canto.org/145505/download  Melozone   \n",
       "3  XC228159.mp3  https://www.xeno-canto.org/228159/download  Melozone   \n",
       "4   XC51313.mp3   https://www.xeno-canto.org/51313/download  Melozone   \n",
       "\n",
       "   latitude                                            license  \\\n",
       "0   33.3117  http://creativecommons.org/licenses/by-nc-nd/2.5/   \n",
       "1   34.2850  http://creativecommons.org/licenses/by-nc-sa/4.0/   \n",
       "2   34.2850  http://creativecommons.org/licenses/by-nc-sa/3.0/   \n",
       "3   33.1188  http://creativecommons.org/licenses/by-nc-nd/4.0/   \n",
       "4   36.0628  http://creativecommons.org/licenses/by-nc-sa/3.0/   \n",
       "\n",
       "                                            location  longitude  \\\n",
       "0  Cibola National Wildlife Refuge, Cibola, Arizo... -114.68912   \n",
       "1    Bill Williams River NWR, Arizona, United States -114.06900   \n",
       "2    Bill Williams River NWR, Arizona, United States -114.06900   \n",
       "3                      Salton Sea, CA, United States -115.79450   \n",
       "4      Sunset Park, Las Vegas, Nevada, United States -115.11280   \n",
       "\n",
       "        recordist                                      recordist_url  \\\n",
       "0  Nathan Pieplow  https://www.xeno-canto.org/contributor/EKKJJJRDJY   \n",
       "1   Lauren Harter  https://www.xeno-canto.org/contributor/YQNGFTBRRT   \n",
       "2   Lauren Harter  https://www.xeno-canto.org/contributor/YQNGFTBRRT   \n",
       "3   Peter Boesman  https://www.xeno-canto.org/contributor/OOECIWCSWV   \n",
       "4     Mike Nelson  https://www.xeno-canto.org/contributor/PWDLINYMKL   \n",
       "\n",
       "                                        sonogram_url species  \\\n",
       "0  https://www.xeno-canto.org/sounds/uploaded/EKK...  aberti   \n",
       "1  https://www.xeno-canto.org/sounds/uploaded/YQN...  aberti   \n",
       "2  https://www.xeno-canto.org/sounds/uploaded/YQN...  aberti   \n",
       "3  https://www.xeno-canto.org/sounds/uploaded/OOE...  aberti   \n",
       "4  https://www.xeno-canto.org/sounds/uploaded/PWD...  aberti   \n",
       "\n",
       "               type                                            remarks  \\\n",
       "0       'seet' call  XC17804 © Nathan Pieplow // Cibola National Wi...   \n",
       "1              call  XC177367 © Lauren Harter // Bill Williams Rive...   \n",
       "2       Squeal duet  XC145505 © Lauren Harter // Bill Williams Rive...   \n",
       "3  interaction duet  XC228159 © Peter Boesman // Salton Sea, CA, Un...   \n",
       "4              call  XC51313 © Mike Nelson // Sunset Park, Las Vega...   \n",
       "\n",
       "                                     full_name  \n",
       "0             Abert's Towhee (Melozone aberti)  \n",
       "1  Abert's Towhee (Melozone aberti dumeticola)  \n",
       "2  Abert's Towhee (Melozone aberti dumeticola)  \n",
       "3             Abert's Towhee (Melozone aberti)  \n",
       "4  Abert's Towhee (Melozone aberti dumeticola)  "
      ]
     },
     "execution_count": 3,
     "metadata": {},
     "output_type": "execute_result"
    }
   ],
   "source": [
    "data.head()"
   ]
  },
  {
   "cell_type": "code",
   "execution_count": 4,
   "metadata": {},
   "outputs": [],
   "source": [
    "list = data[\"english_cname\"].unique()\n",
    "bird_list = [bird for bird in list]"
   ]
  },
  {
   "cell_type": "code",
   "execution_count": 6,
   "metadata": {},
   "outputs": [],
   "source": [
    "def dataframe_difference(df1, df2, which=None):\n",
    "    \"\"\"Find rows which are different between two DataFrames.\"\"\"\n",
    "    comparison_df = df1.merge(df2,\n",
    "                              indicator=True,\n",
    "                              how='outer')\n",
    "    if which is None:\n",
    "        diff_df = comparison_df[comparison_df['_merge'] != 'both']\n",
    "    else:\n",
    "        diff_df = comparison_df[comparison_df['_merge'] == which]\n",
    "    return diff_df"
   ]
  },
  {
   "cell_type": "code",
   "execution_count": 7,
   "metadata": {},
   "outputs": [],
   "source": [
    "temp = data.loc[data['english_cname'] == bird_list[0]]\n",
    "train_df = data.loc[data['english_cname'] == bird_list[0]].sample(frac=.75, random_state=4)\n",
    "test_df = dataframe_difference(train_df, temp)"
   ]
  },
  {
   "cell_type": "code",
   "execution_count": 8,
   "metadata": {},
   "outputs": [],
   "source": [
    "for i in range(1, len(bird_list)):\n",
    "    temp = data.loc[data['english_cname'] == bird_list[i]]\n",
    "    train_temp = data.loc[data['english_cname'] == bird_list[i]].sample(frac=.75, random_state=4)\n",
    "    test_temp = dataframe_difference(train_temp, temp)\n",
    "    train_df = pd.concat([train_df,train_temp], ignore_index = True)\n",
    "    test_df = pd.concat([test_df,test_temp], ignore_index = True)"
   ]
  },
  {
   "cell_type": "code",
   "execution_count": 41,
   "metadata": {},
   "outputs": [],
   "source": [
    "assert len(train_df) + len(test_df) == len(data)"
   ]
  },
  {
   "cell_type": "code",
   "execution_count": 12,
   "metadata": {},
   "outputs": [],
   "source": [
    "train_df.to_csv(\"train.csv\")"
   ]
  },
  {
   "cell_type": "code",
   "execution_count": 13,
   "metadata": {},
   "outputs": [],
   "source": [
    "test_df.to_csv(\"test.csv\")"
   ]
  },
  {
   "cell_type": "code",
   "execution_count": 14,
   "metadata": {},
   "outputs": [],
   "source": [
    "import os\n",
    "import shutil"
   ]
  },
  {
   "cell_type": "code",
   "execution_count": 42,
   "metadata": {},
   "outputs": [],
   "source": [
    "test_dir = 'Test/'\n",
    "train_dir = 'Train/'\n",
    "source_dir = 'xeno-canto-ca-nv/'"
   ]
  },
  {
   "cell_type": "code",
   "execution_count": 17,
   "metadata": {},
   "outputs": [
    {
     "data": {
      "text/plain": [
       "'xeno-canto-ca-nv 2/Test/Elegant Tern/XC484402.mp3'"
      ]
     },
     "execution_count": 17,
     "metadata": {},
     "output_type": "execute_result"
    }
   ],
   "source": [
    "# shutil.move(source_dir, dest_dir)"
   ]
  },
  {
   "cell_type": "code",
   "execution_count": 37,
   "metadata": {},
   "outputs": [],
   "source": [
    "for index, row in test_df.iterrows():\n",
    "    name = row[\"english_cname\"]\n",
    "    audio = row[\"file_name\"]\n",
    "    \n",
    "    if not os.path.exists(f\"{test_dir}{name}\"):\n",
    "        os.makedirs(f\"{test_dir}{name}\")\n",
    "    \n",
    "    from_dir = f\"{source_dir}{audio}\"\n",
    "    dest_dir =  f\"{test_dir}{name}/\"\n",
    "    \n",
    "    shutil.move(from_dir, dest_dir)\n",
    "    "
   ]
  },
  {
   "cell_type": "code",
   "execution_count": 43,
   "metadata": {},
   "outputs": [],
   "source": [
    "for index, row in train_df.iterrows():\n",
    "    name = row[\"english_cname\"]\n",
    "    audio = row[\"file_name\"]\n",
    "    \n",
    "    if not os.path.exists(f\"{train_dir}{name}\"):\n",
    "        os.makedirs(f\"{train_dir}{name}\")\n",
    "    \n",
    "    from_dir = f\"{source_dir}{audio}\"\n",
    "    dest_dir =  f\"{train_dir}{name}/\"\n",
    "    \n",
    "    shutil.move(from_dir, dest_dir)"
   ]
  },
  {
   "cell_type": "code",
   "execution_count": null,
   "metadata": {},
   "outputs": [],
   "source": []
  }
 ],
 "metadata": {
  "kernelspec": {
   "display_name": "Python 3",
   "language": "python",
   "name": "python3"
  },
  "language_info": {
   "codemirror_mode": {
    "name": "ipython",
    "version": 3
   },
   "file_extension": ".py",
   "mimetype": "text/x-python",
   "name": "python",
   "nbconvert_exporter": "python",
   "pygments_lexer": "ipython3",
   "version": "3.7.4"
  }
 },
 "nbformat": 4,
 "nbformat_minor": 4
}
